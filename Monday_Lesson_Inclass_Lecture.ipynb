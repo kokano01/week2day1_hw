{
 "cells": [
  {
   "cell_type": "markdown",
   "metadata": {},
   "source": [
    "# Week 2 - Monday Lesson (variable assignment, loops, lists)"
   ]
  },
  {
   "cell_type": "markdown",
   "metadata": {},
   "source": [
    "## Tasks Today:\n",
    "\n",
    "1) Int & Float assignments <br>\n",
    " &nbsp;&nbsp;&nbsp;&nbsp; a) Assigning int <br>\n",
    " &nbsp;&nbsp;&nbsp;&nbsp; b) Assigning float <br>\n",
    " &nbsp;&nbsp;&nbsp;&nbsp; c) Performing Calculations on ints and floats <br>\n",
    " &nbsp;&nbsp;&nbsp;&nbsp;&nbsp;&nbsp;&nbsp;&nbsp; - Addition <br>\n",
    " &nbsp;&nbsp;&nbsp;&nbsp;&nbsp;&nbsp;&nbsp;&nbsp; - Subtraction <br>\n",
    " &nbsp;&nbsp;&nbsp;&nbsp;&nbsp;&nbsp;&nbsp;&nbsp; - Multiplication <br>\n",
    " &nbsp;&nbsp;&nbsp;&nbsp;&nbsp;&nbsp;&nbsp;&nbsp; - Division <br>\n",
    " &nbsp;&nbsp;&nbsp;&nbsp;&nbsp;&nbsp;&nbsp;&nbsp; - Floor Division <br>\n",
    " &nbsp;&nbsp;&nbsp;&nbsp;&nbsp;&nbsp;&nbsp;&nbsp; - Modulo <br>\n",
    " &nbsp;&nbsp;&nbsp;&nbsp;&nbsp;&nbsp;&nbsp;&nbsp; - Exponential <br>\n",
    "2) String Input-Output <br>\n",
    " &nbsp;&nbsp;&nbsp;&nbsp; a) String Assignment <br>\n",
    " &nbsp;&nbsp;&nbsp;&nbsp; b) print() <br>\n",
    " &nbsp;&nbsp;&nbsp;&nbsp; c) String Concatenation <br>\n",
    " &nbsp;&nbsp;&nbsp;&nbsp; d) Type Conversion <br>\n",
    " &nbsp;&nbsp;&nbsp;&nbsp; e) input() <br>\n",
    " &nbsp;&nbsp;&nbsp;&nbsp; f) format() <br>\n",
    " &nbsp;&nbsp;&nbsp;&nbsp; g) Old Way (python 2) <br>\n",
    "3) <b>In-Class Exercise #1</b> <br>\n",
    "4) If Statements <br>\n",
    " &nbsp;&nbsp;&nbsp;&nbsp; a) 'is' keyword <br>\n",
    " &nbsp;&nbsp;&nbsp;&nbsp; b) 'in' keyword <br>\n",
    " &nbsp;&nbsp;&nbsp;&nbsp; c) 'not in' keyword <br>\n",
    "5) <b>In-Class Exercise #2</b> <br>\n",
    "6) Elif Statements <br>\n",
    "7) Else Statements <br>\n",
    "8) <b>In-Class Exercise #3</b> <br>\n",
    "9) For Loops <br>\n",
    " &nbsp;&nbsp;&nbsp;&nbsp; a) Using 'in' keyword <br>\n",
    " &nbsp;&nbsp;&nbsp;&nbsp; b) Continue Statement <br>\n",
    " &nbsp;&nbsp;&nbsp;&nbsp; c) Break Statement <br>\n",
    " &nbsp;&nbsp;&nbsp;&nbsp; d) Pass Statement <br>\n",
    " &nbsp;&nbsp;&nbsp;&nbsp; e) Double For Loops <br>\n",
    "10) While Loops <br>\n",
    " &nbsp;&nbsp;&nbsp;&nbsp; a) Looping 'While True' <br>\n",
    " &nbsp;&nbsp;&nbsp;&nbsp; b) While and For Loops Used Together <br>\n",
    "11) Built-In Functions <br>\n",
    " &nbsp;&nbsp;&nbsp;&nbsp; a) range() <br>\n",
    " &nbsp;&nbsp;&nbsp;&nbsp; b) len() <br>\n",
    " &nbsp;&nbsp;&nbsp;&nbsp; c) help() <br>\n",
    " &nbsp;&nbsp;&nbsp;&nbsp; d) isinstance() <br>\n",
    " &nbsp;&nbsp;&nbsp;&nbsp; e) abs() <br>\n",
    "12) Try and Except <br>\n",
    "13) Lists <br>\n",
    " &nbsp;&nbsp;&nbsp;&nbsp; a) Declaring Lists <br>\n",
    " &nbsp;&nbsp;&nbsp;&nbsp; b) Indexing a List <br>\n",
    " &nbsp;&nbsp;&nbsp;&nbsp; c) .append() <br>\n",
    " &nbsp;&nbsp;&nbsp;&nbsp; d) .insert() <br>\n",
    " &nbsp;&nbsp;&nbsp;&nbsp; e) .pop() <br>\n",
    " &nbsp;&nbsp;&nbsp;&nbsp; f) .remove() <br>\n",
    " &nbsp;&nbsp;&nbsp;&nbsp; g) del() <br>\n",
    " &nbsp;&nbsp;&nbsp;&nbsp; h) Concatenating Two Lists <br>\n",
    " &nbsp;&nbsp;&nbsp;&nbsp; i) Lists Within Lists <br>\n",
    " &nbsp;&nbsp;&nbsp;&nbsp; j) Looping Through Lists <br>"
   ]
  },
  {
   "cell_type": "markdown",
   "metadata": {},
   "source": [
    "### Int & Float Assignments"
   ]
  },
  {
   "cell_type": "markdown",
   "metadata": {},
   "source": [
    "##### Assigning int"
   ]
  },
  {
   "cell_type": "code",
   "execution_count": 3,
   "metadata": {},
   "outputs": [
    {
     "name": "stdout",
     "output_type": "stream",
     "text": [
      "6\n"
     ]
    },
    {
     "data": {
      "text/plain": [
       "int"
      ]
     },
     "execution_count": 3,
     "metadata": {},
     "output_type": "execute_result"
    }
   ],
   "source": [
    "number = 6\n",
    "print(number)\n",
    "type(number)"
   ]
  },
  {
   "cell_type": "markdown",
   "metadata": {},
   "source": [
    "##### Assinging float"
   ]
  },
  {
   "cell_type": "code",
   "execution_count": 5,
   "metadata": {},
   "outputs": [
    {
     "name": "stdout",
     "output_type": "stream",
     "text": [
      "6.0\n"
     ]
    },
    {
     "data": {
      "text/plain": [
       "float"
      ]
     },
     "execution_count": 5,
     "metadata": {},
     "output_type": "execute_result"
    }
   ],
   "source": [
    "number_float = 6.0\n",
    "print(number_float)\n",
    "type(number_float)"
   ]
  },
  {
   "cell_type": "markdown",
   "metadata": {},
   "source": [
    "#### Performing Calculations on ints and floats"
   ]
  },
  {
   "cell_type": "markdown",
   "metadata": {},
   "source": [
    "##### Addition"
   ]
  },
  {
   "cell_type": "code",
   "execution_count": 15,
   "metadata": {},
   "outputs": [
    {
     "name": "stdout",
     "output_type": "stream",
     "text": [
      "<class 'int'>\n",
      "<class 'float'>\n",
      "8.5\n",
      "10.5\n"
     ]
    }
   ],
   "source": [
    "num1 = 2\n",
    "print(type(num1))\n",
    "num2 = 6.5\n",
    "print(type(num2))\n",
    "\n",
    "output = num1 + num2\n",
    "print(output)\n",
    "type(output)\n",
    "\n",
    "#shorthand\n",
    "output +=  2  # output = output + 2    ===>  8.5 + 2 = the new output\n",
    "print(output)"
   ]
  },
  {
   "cell_type": "markdown",
   "metadata": {},
   "source": [
    "##### Subtraction"
   ]
  },
  {
   "cell_type": "code",
   "execution_count": 16,
   "metadata": {},
   "outputs": [
    {
     "name": "stdout",
     "output_type": "stream",
     "text": [
      "4.5\n",
      "1.5\n"
     ]
    }
   ],
   "source": [
    "output_diff = num2 - num1\n",
    "print(output_diff)\n",
    "type(output_diff)\n",
    "\n",
    "#shorthand\n",
    "output_diff -= 3 # output_diff = output_diff - 3\n",
    "print(output_diff)"
   ]
  },
  {
   "cell_type": "markdown",
   "metadata": {},
   "source": [
    "##### Multiplication"
   ]
  },
  {
   "cell_type": "code",
   "execution_count": 19,
   "metadata": {},
   "outputs": [
    {
     "name": "stdout",
     "output_type": "stream",
     "text": [
      "13.0\n",
      "52.0\n"
     ]
    }
   ],
   "source": [
    "num1 = 2\n",
    "\n",
    "num2 = 6.5\n",
    "\n",
    "output_mult = num1 * num2\n",
    "print(output_mult)\n",
    "\n",
    "#shorthand\n",
    "output_mult *= 4    # old output_mult value times 4\n",
    "print(output_mult)"
   ]
  },
  {
   "cell_type": "markdown",
   "metadata": {},
   "source": [
    "##### Division"
   ]
  },
  {
   "cell_type": "code",
   "execution_count": 22,
   "metadata": {},
   "outputs": [
    {
     "name": "stdout",
     "output_type": "stream",
     "text": [
      "3.25\n",
      "1.625\n"
     ]
    }
   ],
   "source": [
    "output_div = num2 / num1\n",
    "print(output_div)\n",
    "\n",
    "#shorthand\n",
    "output_div /= 2 # output_div = output_div / 4\n",
    "print(output_div)"
   ]
  },
  {
   "cell_type": "markdown",
   "metadata": {},
   "source": [
    "##### Floor Division"
   ]
  },
  {
   "cell_type": "code",
   "execution_count": 25,
   "metadata": {},
   "outputs": [
    {
     "name": "stdout",
     "output_type": "stream",
     "text": [
      "3.0\n",
      "1.0\n"
     ]
    }
   ],
   "source": [
    "# dividing but rounding down\n",
    "\n",
    "output_floor = num2 // num1\n",
    "print(output_floor)\n",
    "type(output_floor)\n",
    "\n",
    "#shorthand\n",
    "output_floor //= 2  # output_floor = output_floor // 2\n",
    "print(output_floor)"
   ]
  },
  {
   "cell_type": "markdown",
   "metadata": {},
   "source": [
    "##### Modulo"
   ]
  },
  {
   "cell_type": "code",
   "execution_count": 29,
   "metadata": {},
   "outputs": [
    {
     "name": "stdout",
     "output_type": "stream",
     "text": [
      "3.0\n",
      "1.0\n"
     ]
    }
   ],
   "source": [
    "num1 = 5\n",
    "\n",
    "num2 = 13.0\n",
    "# modulo finds the remainder\n",
    "\n",
    "output_mod = num2 % num1\n",
    "print(output_mod)\n",
    "\n",
    "#shorthand\n",
    "output_mod %= 2   #output_mod = output_mod % 2\n",
    "print(output_mod)"
   ]
  },
  {
   "cell_type": "markdown",
   "metadata": {},
   "source": [
    "##### Exponential"
   ]
  },
  {
   "cell_type": "code",
   "execution_count": 31,
   "metadata": {},
   "outputs": [
    {
     "name": "stdout",
     "output_type": "stream",
     "text": [
      "25\n",
      "625\n"
     ]
    }
   ],
   "source": [
    "square = 5 ** 2\n",
    "print(square)\n",
    "\n",
    "#shorthand\n",
    "square **= 2\n",
    "print(square)  #square = square ** 2"
   ]
  },
  {
   "cell_type": "markdown",
   "metadata": {},
   "source": [
    "### String Input-Output"
   ]
  },
  {
   "cell_type": "markdown",
   "metadata": {},
   "source": [
    "##### String Assignment"
   ]
  },
  {
   "cell_type": "code",
   "execution_count": 32,
   "metadata": {},
   "outputs": [
    {
     "name": "stdout",
     "output_type": "stream",
     "text": [
      "Koki\n"
     ]
    },
    {
     "data": {
      "text/plain": [
       "str"
      ]
     },
     "execution_count": 32,
     "metadata": {},
     "output_type": "execute_result"
    }
   ],
   "source": [
    "# inputs and outputs\n",
    "\n",
    "name = \"Koki\"\n",
    "print(name)\n",
    "type(name)"
   ]
  },
  {
   "cell_type": "markdown",
   "metadata": {},
   "source": [
    "##### print() <br>\n",
    "<p>Don't forget about end=' '</p>"
   ]
  },
  {
   "cell_type": "code",
   "execution_count": 39,
   "metadata": {},
   "outputs": [
    {
     "name": "stdout",
     "output_type": "stream",
     "text": [
      "This is my first name:  Koki\n",
      "Full Name:  Koki Okano"
     ]
    }
   ],
   "source": [
    "print('This is my first name: ' ,name, end='\\n')\n",
    "print('Full Name: ', name, end=' Okano')"
   ]
  },
  {
   "cell_type": "markdown",
   "metadata": {},
   "source": [
    "##### String Concatenation"
   ]
  },
  {
   "cell_type": "code",
   "execution_count": 42,
   "metadata": {},
   "outputs": [
    {
     "name": "stdout",
     "output_type": "stream",
     "text": [
      "John Smith\n",
      "John Smith Jr.\n"
     ]
    }
   ],
   "source": [
    "# to link things together\n",
    "\n",
    "first_name = 'John'\n",
    "last_name = \"Smith\"\n",
    "\n",
    "full_name = first_name + \" \" + last_name\n",
    "print(full_name)\n",
    "\n",
    "#Shorthand\n",
    "full_name += \" Jr.\"  # full_name = full_name + \" .Jr\"\n",
    "print(full_name)"
   ]
  },
  {
   "cell_type": "markdown",
   "metadata": {},
   "source": [
    "##### Type Conversion"
   ]
  },
  {
   "cell_type": "code",
   "execution_count": 48,
   "metadata": {},
   "outputs": [
    {
     "name": "stdout",
     "output_type": "stream",
     "text": [
      "<class 'str'>\n"
     ]
    },
    {
     "data": {
      "text/plain": [
       "int"
      ]
     },
     "execution_count": 48,
     "metadata": {},
     "output_type": "execute_result"
    }
   ],
   "source": [
    "num_str = '32'\n",
    "print(type(num_str))\n",
    "num_str_to_int = int(num_str)\n",
    "64 + num_str_to_int\n",
    "type(num_str_to_int)"
   ]
  },
  {
   "cell_type": "markdown",
   "metadata": {},
   "source": [
    "##### input()"
   ]
  },
  {
   "cell_type": "code",
   "execution_count": 56,
   "metadata": {},
   "outputs": [
    {
     "name": "stdout",
     "output_type": "stream",
     "text": [
      "What is your nameKoki\n",
      "Koki\n",
      "What is your age? 24\n",
      "Your age in 5 years will be:  29\n"
     ]
    }
   ],
   "source": [
    "# input function will always return a str\n",
    "name = input('What is your name')\n",
    "print(name)\n",
    "\n",
    "age = int(input(\"What is your age? \"))\n",
    "your_age_in_5_years = age + 5\n",
    "print(\"Your age in 5 years will be: \", your_age_in_5_years)\n",
    "\n"
   ]
  },
  {
   "cell_type": "markdown",
   "metadata": {},
   "source": [
    "##### format()"
   ]
  },
  {
   "cell_type": "code",
   "execution_count": 58,
   "metadata": {
    "scrolled": true
   },
   "outputs": [
    {
     "name": "stdout",
     "output_type": "stream",
     "text": [
      "What is your age? 24\n",
      "You are 24, Koki, and you are getting wiser\n",
      "24 is a great time in life, Koki!!\n"
     ]
    }
   ],
   "source": [
    "age = input(\"What is your age? \")\n",
    "result_string = 'You are {}, {}, and you are getting wiser'.format(age, name)\n",
    "print(result_string)\n",
    "\n",
    "\n",
    "# f' = formatted string\n",
    "result_fstring = f'{age} is a great time in life, {name}!!'\n",
    "print(result_fstring)"
   ]
  },
  {
   "cell_type": "code",
   "execution_count": null,
   "metadata": {},
   "outputs": [],
   "source": []
  },
  {
   "cell_type": "markdown",
   "metadata": {},
   "source": [
    "# In-Class Exercise 1 <br>\n",
    "<p>Create a format statement that asks for color, year, make, model and prints out the results</p>"
   ]
  },
  {
   "cell_type": "code",
   "execution_count": 66,
   "metadata": {
    "scrolled": true
   },
   "outputs": [
    {
     "name": "stdout",
     "output_type": "stream",
     "text": [
      "What is your favorite car's color? black\n",
      "What year is your favorite car? 2011\n",
      "What is the make of your favorite car? nissan\n",
      "What is the model of your favorite car? altima\n",
      "\n",
      "Your favorite car is a black nissan altima made in 2011 .\n"
     ]
    }
   ],
   "source": [
    "color = input(\"What is your favorite car's color? \")\n",
    "year = input(\"What year is your favorite car? \")\n",
    "make = input(\"What is the make of your favorite car? \")\n",
    "model = input(\"What is the model of your favorite car? \")\n",
    "\n",
    "print(\"\\nYour favorite car is a\", color, make, model, \"made in\", year, \".\")"
   ]
  },
  {
   "cell_type": "code",
   "execution_count": 68,
   "metadata": {},
   "outputs": [
    {
     "name": "stdout",
     "output_type": "stream",
     "text": [
      "Do you have a car? (yes/no) yes\n",
      "What is the color of your car? black\n",
      "What is the year your car was made? 2011\n",
      "What is the make of your car? Nissan\n",
      "What is the model of your car? Altima\n",
      "Your car's color is black, the make is Nissan, the model is Altima, and it was made in 2011.\n"
     ]
    }
   ],
   "source": [
    "init = input(\"Do you have a car? (yes/no) \")\n",
    "if init.lower() == \"no\" or init.lower() == \"yes\":\n",
    "    if init.lower() == \"no\":\n",
    "        print(\"Oof, that's tough\")\n",
    "    else:\n",
    "        color = input(\"What is the color of your car? \")\n",
    "        year = input(\"What is the year your car was made? \")\n",
    "        make = input(\"What is the make of your car? \")\n",
    "        model = input(\"What is the model of your car? \")\n",
    "        result = f\"Your car's color is {color}, the make is {make}, the model is {model}, and it was made in {year}.\"\n",
    "        print(result)\n",
    "else:  #if they type something else\n",
    "    print(\"Invalid Response\")"
   ]
  },
  {
   "cell_type": "markdown",
   "metadata": {},
   "source": [
    "### If Statements"
   ]
  },
  {
   "cell_type": "code",
   "execution_count": 71,
   "metadata": {},
   "outputs": [
    {
     "name": "stdout",
     "output_type": "stream",
     "text": [
      "Equal Values\n",
      "they are equal\n"
     ]
    }
   ],
   "source": [
    "# Available operators: Greater(>), Less(<),Equal(==)\n",
    "# Greater or Equal(>=), Less or Equal (<=)\n",
    "\n",
    "# Truth Tree:\n",
    "# T && F = F       && = and\n",
    "# T && T = T\n",
    "# T || F = T       || = or\n",
    "# F || T = T\n",
    "# F || F = F\n",
    "\n",
    "num1 = 5\n",
    "num2 = 5\n",
    "\n",
    "if num2 == num1:\n",
    "    print('Equal Values')\n",
    "else:\n",
    "    print('Not Equal')\n",
    "    \n",
    "# ----------------------------------------#    \n",
    "    \n",
    "if num2 > num1:\n",
    "    print(\"num2 is greater\")\n",
    "elif num1 > num2:\n",
    "    print(\"num1 is greater\")\n",
    "#you can have multiple checks (if-statements)\n",
    "else:\n",
    "    print(\"they are equal\")"
   ]
  },
  {
   "cell_type": "markdown",
   "metadata": {},
   "source": [
    "##### 'is' keyword"
   ]
  },
  {
   "cell_type": "code",
   "execution_count": 76,
   "metadata": {
    "scrolled": true
   },
   "outputs": [
    {
     "name": "stdout",
     "output_type": "stream",
     "text": [
      "num3 is num4\n"
     ]
    }
   ],
   "source": [
    "# \"is\" is different from \"==\"\n",
    "\n",
    "\n",
    "num3 = 55\n",
    "num4 = 55\n",
    "\n",
    "# list1 = [1,2,3,4]\n",
    "# list2 = [1,2,3,4]\n",
    "  \n",
    "\n",
    "if num3 is num4:\n",
    "    print('num3 is num4')"
   ]
  },
  {
   "cell_type": "markdown",
   "metadata": {},
   "source": [
    "##### 'in' keyword"
   ]
  },
  {
   "cell_type": "code",
   "execution_count": 82,
   "metadata": {},
   "outputs": [
    {
     "name": "stdout",
     "output_type": "stream",
     "text": [
      "The boy who lived..\n",
      "3 is in list1\n"
     ]
    }
   ],
   "source": [
    "char_name = \"Harry Potter\"\n",
    "if \"H\" in char_name:\n",
    "    print(\"The boy who lived..\")\n",
    "    \n",
    "list1 = [1,2,3,4, 'hello']\n",
    "if 3 in list1:\n",
    "    print(\"3 is in list1\")"
   ]
  },
  {
   "cell_type": "markdown",
   "metadata": {},
   "source": [
    "##### 'not in' keyword'"
   ]
  },
  {
   "cell_type": "code",
   "execution_count": 83,
   "metadata": {},
   "outputs": [
    {
     "name": "stdout",
     "output_type": "stream",
     "text": [
      "a is NOT in here\n"
     ]
    }
   ],
   "source": [
    "sega_char = \"sonic\"\n",
    "if \"a\" not in sega_char:\n",
    "    print(\"a is NOT in here\")"
   ]
  },
  {
   "cell_type": "markdown",
   "metadata": {},
   "source": [
    "# In-Class Exercise 2 <br>\n",
    "<p>Ask user for input, check to see if the letter 'p' is in the input</p>"
   ]
  },
  {
   "cell_type": "code",
   "execution_count": 89,
   "metadata": {
    "scrolled": true
   },
   "outputs": [
    {
     "name": "stdout",
     "output_type": "stream",
     "text": [
      "Hey, type something: fig\n",
      "No p found here\n",
      "\n",
      "Hey, type something: pig\n",
      "Hey, there's a p!\n"
     ]
    }
   ],
   "source": [
    "jumbo = input(\"Hey, type something: \")\n",
    "if \"p\" in jumbo:\n",
    "    print(\"Hey, there's a p!\")\n",
    "else:\n",
    "    print(\"No p found here\")\n",
    "\n",
    "jumbo2 = input(\"\\nHey, type something: \")\n",
    "if \"p\" in jumbo2:\n",
    "    print(\"Hey, there's a p!\")\n",
    "else:\n",
    "    print(\"No p found here\")"
   ]
  },
  {
   "cell_type": "markdown",
   "metadata": {},
   "source": [
    "## Using 'and'/'or' with If Statements"
   ]
  },
  {
   "cell_type": "code",
   "execution_count": 97,
   "metadata": {},
   "outputs": [
    {
     "name": "stdout",
     "output_type": "stream",
     "text": [
      "True and True\n",
      "here\n",
      "at least one statement is true\n"
     ]
    }
   ],
   "source": [
    "# 0, empty string (''), empty list [], and dictionary/set and False have a truthiness of False.\n",
    "# all other numbers and non-empty strings/lists/dictionaries, and sets have a truthiness of True.\n",
    "num1 = 15\n",
    "num2 = 3\n",
    "num3 = 10\n",
    "num4 = 3\n",
    "\n",
    "# both need to be true because of 'and'\n",
    "if num1 / 5 == num2 and num3 - 7 == num4:\n",
    "    print(\"True and True\")    \n",
    "    \n",
    "if 5 + 4 == 9 and 6 + 3 == 9:  \n",
    "    print('here')\n",
    "\n",
    "#truthiness: seeming to be true, even if it is not true\n",
    "    \n",
    "    # first one is false and second one is true\n",
    "if num1 / 5 == num3 or num3 - 7 == num4:\n",
    "    print('at least one statement is true')\n"
   ]
  },
  {
   "cell_type": "markdown",
   "metadata": {},
   "source": [
    "### Elif Statements"
   ]
  },
  {
   "cell_type": "code",
   "execution_count": 98,
   "metadata": {},
   "outputs": [
    {
     "name": "stdout",
     "output_type": "stream",
     "text": [
      "the name is koki\n"
     ]
    }
   ],
   "source": [
    "first_name = \"koki\"\n",
    "\n",
    "if first_name == \"John\":   # False\n",
    "    print(\"the first name is John\")\n",
    "elif first_name != \"koki\":  # False\n",
    "    print(\"the name is not koki\")\n",
    "else:\n",
    "    print(\"the name is koki\")  # True"
   ]
  },
  {
   "cell_type": "markdown",
   "metadata": {},
   "source": [
    "### Else Statements"
   ]
  },
  {
   "cell_type": "code",
   "execution_count": null,
   "metadata": {},
   "outputs": [],
   "source": [
    "# see above"
   ]
  },
  {
   "cell_type": "markdown",
   "metadata": {},
   "source": [
    "### For Loops"
   ]
  },
  {
   "cell_type": "code",
   "execution_count": 110,
   "metadata": {},
   "outputs": [
    {
     "name": "stdout",
     "output_type": "stream",
     "text": [
      "K\n",
      "o\n",
      "k\n",
      "i\n",
      " \n",
      "O\n",
      "k\n",
      "a\n",
      "n\n",
      "o\n",
      "===============================\n",
      "\n",
      "0 K\n",
      "1 o\n",
      "2 k\n",
      "3 i\n",
      "4  \n",
      "5 O\n",
      "6 k\n",
      "7 a\n",
      "8 n\n",
      "9 o\n"
     ]
    }
   ],
   "source": [
    "name = \"Koki Okano\"\n",
    "\n",
    "# for <var_name> in <iterator>:\n",
    "for letter in name:\n",
    "    print(letter)\n",
    "    \n",
    "# for index in range(len(name)):  #get length of name. range gives a position number to each index\n",
    "#     print(name[index])\n",
    "\n",
    "# print(len(name))\n",
    "\n",
    "# print(range(len(name)))  \n",
    "# name[1]   # gives letter in index 1\n",
    "\n",
    "print(\"===============================\\n\")\n",
    "\n",
    "for index in range(len(name)):\n",
    "    print(index, name[index])"
   ]
  },
  {
   "cell_type": "markdown",
   "metadata": {},
   "source": [
    "##### Using 'in' keyword"
   ]
  },
  {
   "cell_type": "code",
   "execution_count": null,
   "metadata": {},
   "outputs": [],
   "source": [
    "# see above"
   ]
  },
  {
   "cell_type": "markdown",
   "metadata": {},
   "source": [
    "##### Continue Statement"
   ]
  },
  {
   "cell_type": "code",
   "execution_count": null,
   "metadata": {},
   "outputs": [],
   "source": [
    "# will continue to next iteration"
   ]
  },
  {
   "cell_type": "code",
   "execution_count": 112,
   "metadata": {},
   "outputs": [
    {
     "name": "stdout",
     "output_type": "stream",
     "text": [
      "0\n",
      "1\n",
      "2\n",
      "3\n",
      "4\n",
      "6\n",
      "7\n",
      "8\n",
      "9\n"
     ]
    }
   ],
   "source": [
    "for i in range(10):\n",
    "    if i == 5:\n",
    "        continue   #skipped 5:::when it got to 5, the loop went back to start again, but from 6\n",
    "    print(i)"
   ]
  },
  {
   "cell_type": "markdown",
   "metadata": {},
   "source": [
    "##### Break Statement"
   ]
  },
  {
   "cell_type": "code",
   "execution_count": null,
   "metadata": {},
   "outputs": [],
   "source": [
    "# will break out of current loop"
   ]
  },
  {
   "cell_type": "code",
   "execution_count": 114,
   "metadata": {},
   "outputs": [
    {
     "name": "stdout",
     "output_type": "stream",
     "text": [
      "0\n",
      "1\n",
      "2\n",
      "3\n",
      "4\n"
     ]
    }
   ],
   "source": [
    "for i in range(10):\n",
    "    if i == 5:\n",
    "        break\n",
    "    print(i)"
   ]
  },
  {
   "cell_type": "markdown",
   "metadata": {},
   "source": [
    "##### Pass Statement"
   ]
  },
  {
   "cell_type": "code",
   "execution_count": null,
   "metadata": {},
   "outputs": [],
   "source": [
    "# mostly used as a placeholder, and will continue on same iteration"
   ]
  },
  {
   "cell_type": "code",
   "execution_count": 117,
   "metadata": {},
   "outputs": [
    {
     "name": "stdout",
     "output_type": "stream",
     "text": [
      "0\n",
      "1\n",
      "2\n",
      "3\n",
      "4\n",
      "5\n",
      "6\n",
      "7\n",
      "8\n",
      "9\n"
     ]
    }
   ],
   "source": [
    "# could be used to just make the outline of the code, but add some pass to fill in the blank temporarily\n",
    "\n",
    "for i in range(10):\n",
    "    if i==5:\n",
    "        pass   # implement something here\n",
    "    print(i)"
   ]
  },
  {
   "cell_type": "markdown",
   "metadata": {},
   "source": [
    "##### Double For Loops"
   ]
  },
  {
   "cell_type": "code",
   "execution_count": 119,
   "metadata": {},
   "outputs": [
    {
     "name": "stdout",
     "output_type": "stream",
     "text": [
      "i=0, j=0\n",
      "i=0, j=1\n",
      "i=0, j=2\n",
      "i=1, j=0\n",
      "i=1, j=1\n",
      "i=1, j=2\n",
      "i=2, j=0\n",
      "i=2, j=1\n",
      "i=2, j=2\n"
     ]
    }
   ],
   "source": [
    "for i in range(3):\n",
    "    for j in range(3):\n",
    "        print(f'i={i}, j={j}')"
   ]
  },
  {
   "cell_type": "markdown",
   "metadata": {},
   "source": [
    "### While Loops"
   ]
  },
  {
   "cell_type": "code",
   "execution_count": 121,
   "metadata": {},
   "outputs": [
    {
     "name": "stdout",
     "output_type": "stream",
     "text": [
      "0\n",
      "1\n",
      "2\n",
      "3\n",
      "4\n"
     ]
    }
   ],
   "source": [
    "# runs on a condition\n",
    "\n",
    "num = 0\n",
    "while num < 5:\n",
    "    print(num)\n",
    "    num += 1 # num = num + 1"
   ]
  },
  {
   "cell_type": "markdown",
   "metadata": {},
   "source": [
    "##### Looping 'While True'"
   ]
  },
  {
   "cell_type": "code",
   "execution_count": 122,
   "metadata": {},
   "outputs": [
    {
     "name": "stdout",
     "output_type": "stream",
     "text": [
      "infinite_loop\n",
      "Are you done playing? (yes/no)no\n",
      "infinite_loop\n",
      "Are you done playing? (yes/no)yes\n"
     ]
    }
   ],
   "source": [
    "game_over = False\n",
    "while True:\n",
    "    print(\"infinite_loop\")\n",
    "    answer = input(\"Are you done playing? (yes/no)\")\n",
    "    if answer.lower() == \"yes\":\n",
    "        break\n",
    "    "
   ]
  },
  {
   "cell_type": "code",
   "execution_count": 123,
   "metadata": {},
   "outputs": [
    {
     "name": "stdout",
     "output_type": "stream",
     "text": [
      "0\n",
      "1\n",
      "2\n",
      "3\n",
      "4\n"
     ]
    }
   ],
   "source": [
    "for num in [0,1,2,3,4]:  #if you know exactly the iteration, then use for loop\n",
    "    print(num)"
   ]
  },
  {
   "cell_type": "code",
   "execution_count": 124,
   "metadata": {},
   "outputs": [
    {
     "name": "stdout",
     "output_type": "stream",
     "text": [
      "0\n",
      "1\n",
      "2\n",
      "3\n",
      "4\n"
     ]
    }
   ],
   "source": [
    "num = 0    # if you don't know the iteration/how long it needs to go, then use a while loop\n",
    "while num < 5:\n",
    "    print(num)\n",
    "    num += 1"
   ]
  },
  {
   "cell_type": "markdown",
   "metadata": {},
   "source": [
    "##### While & For Loops Used Together"
   ]
  },
  {
   "cell_type": "code",
   "execution_count": 125,
   "metadata": {},
   "outputs": [
    {
     "name": "stdout",
     "output_type": "stream",
     "text": [
      "While loop iteration:  0\n",
      "For loop iteration:  0\n",
      "For loop iteration:  1\n",
      "While loop iteration:  1\n",
      "For loop iteration:  0\n",
      "For loop iteration:  1\n",
      "While loop iteration:  2\n",
      "For loop iteration:  0\n",
      "For loop iteration:  1\n",
      "While loop iteration:  3\n",
      "For loop iteration:  0\n",
      "For loop iteration:  1\n",
      "While loop iteration:  4\n",
      "For loop iteration:  0\n",
      "For loop iteration:  1\n"
     ]
    }
   ],
   "source": [
    "num = 0\n",
    "while num < 5:\n",
    "    print(\"While loop iteration: \", num)\n",
    "    \n",
    "    for i in range(2):\n",
    "        print(\"For loop iteration: \", i)\n",
    "    \n",
    "    num += 1"
   ]
  },
  {
   "cell_type": "markdown",
   "metadata": {},
   "source": [
    "### Built-In Functions"
   ]
  },
  {
   "cell_type": "markdown",
   "metadata": {},
   "source": [
    "##### range()"
   ]
  },
  {
   "cell_type": "code",
   "execution_count": 128,
   "metadata": {},
   "outputs": [
    {
     "name": "stdout",
     "output_type": "stream",
     "text": [
      "1\n",
      "3\n",
      "5\n",
      "7\n"
     ]
    }
   ],
   "source": [
    "# syntax for range(start, stop, step)\n",
    "# start and step are optional\n",
    "\n",
    "for i in range(1,8,2):\n",
    "    print (i)"
   ]
  },
  {
   "cell_type": "markdown",
   "metadata": {},
   "source": [
    "##### len()"
   ]
  },
  {
   "cell_type": "code",
   "execution_count": 129,
   "metadata": {},
   "outputs": [
    {
     "name": "stdout",
     "output_type": "stream",
     "text": [
      "4\n"
     ]
    }
   ],
   "source": [
    "name = \"koki\"\n",
    "length = len(name)\n",
    "print(length)"
   ]
  },
  {
   "cell_type": "markdown",
   "metadata": {},
   "source": [
    "##### help()"
   ]
  },
  {
   "cell_type": "code",
   "execution_count": 135,
   "metadata": {},
   "outputs": [
    {
     "name": "stdout",
     "output_type": "stream",
     "text": [
      "Help on built-in function isinstance in module builtins:\n",
      "\n",
      "isinstance(obj, class_or_tuple, /)\n",
      "    Return whether an object is an instance of a class or of a subclass thereof.\n",
      "    \n",
      "    A tuple, as in ``isinstance(x, (A, B, ...))``, may be given as the target to\n",
      "    check against. This is equivalent to ``isinstance(x, A) or isinstance(x, B)\n",
      "    or ...`` etc.\n",
      "\n"
     ]
    }
   ],
   "source": [
    "help(isinstance)"
   ]
  },
  {
   "cell_type": "markdown",
   "metadata": {},
   "source": [
    "##### isinstance()"
   ]
  },
  {
   "cell_type": "code",
   "execution_count": 139,
   "metadata": {},
   "outputs": [
    {
     "name": "stdout",
     "output_type": "stream",
     "text": [
      "True\n"
     ]
    }
   ],
   "source": [
    "age = \"4.0\"\n",
    "print(isinstance(age,str))"
   ]
  },
  {
   "cell_type": "markdown",
   "metadata": {},
   "source": [
    "##### abs()"
   ]
  },
  {
   "cell_type": "code",
   "execution_count": 142,
   "metadata": {},
   "outputs": [
    {
     "data": {
      "text/plain": [
       "5"
      ]
     },
     "execution_count": 142,
     "metadata": {},
     "output_type": "execute_result"
    }
   ],
   "source": [
    "abs(-5)"
   ]
  },
  {
   "cell_type": "markdown",
   "metadata": {},
   "source": [
    "### Try and Except"
   ]
  },
  {
   "cell_type": "code",
   "execution_count": null,
   "metadata": {},
   "outputs": [
    {
     "name": "stdout",
     "output_type": "stream",
     "text": [
      "Guess a number between 1-10: hi\n",
      "value error\n",
      "Guess a number between 1-10: @\n",
      "value error\n",
      "Guess a number between 1-10: 11\n",
      "You guessed incorrectly\n",
      "Guess a number between 1-10: ten\n",
      "value error\n",
      "other error\n",
      "other error\n",
      "other error\n"
     ]
    }
   ],
   "source": [
    "# FOR CATCHING ERROR MESSAGES.\n",
    "\n",
    "while True:\n",
    "    try:\n",
    "        number_test = 6\n",
    "        input_num = int(input(\"Guess a number between 1-10: \"))\n",
    "        if input_num != number_test:\n",
    "            print(\"You guessed incorrectly\")\n",
    "        else:\n",
    "            print(\"Correct!\")\n",
    "            break\n",
    "    except SyntaxError:\n",
    "        pass\n",
    "        print(\"syntaxerror\")\n",
    "    except ValueError:\n",
    "        pass\n",
    "        print(\"value error\")\n",
    "    except:\n",
    "        print(\"other error\")"
   ]
  },
  {
   "cell_type": "markdown",
   "metadata": {},
   "source": [
    "### Lists"
   ]
  },
  {
   "cell_type": "markdown",
   "metadata": {},
   "source": [
    "##### Declaring Lists"
   ]
  },
  {
   "cell_type": "code",
   "execution_count": 24,
   "metadata": {},
   "outputs": [
    {
     "name": "stdout",
     "output_type": "stream",
     "text": [
      "['Jerry', 'Jerry', 'Shoha', 'Koki', 'Olivia', 'Young', 'Peter', 'Dan', 'Chien']\n"
     ]
    }
   ],
   "source": [
    "l1 = []\n",
    "type(l1)\n",
    "names = [\"Jerry\", \"Jerry\", \"Shoha\", \"Koki\", \"Olivia\", \"Young\", \"Peter\", \"Dan\", \"Chien\"]\n",
    "print(names)"
   ]
  },
  {
   "cell_type": "markdown",
   "metadata": {},
   "source": [
    "##### Indexing a List"
   ]
  },
  {
   "cell_type": "code",
   "execution_count": 14,
   "metadata": {},
   "outputs": [
    {
     "name": "stdout",
     "output_type": "stream",
     "text": [
      "Koki\n",
      "['Jerry', 'Shoha', 'Koki', 'Olivia']\n",
      "['Jerry', 'Koki', 'Young']\n"
     ]
    }
   ],
   "source": [
    "print(names[3])\n",
    "\n",
    "#list slicing--grabbing a slice of the list\n",
    "print(names[1:5])\n",
    "print(names[1:7:2])"
   ]
  },
  {
   "cell_type": "markdown",
   "metadata": {},
   "source": [
    "##### .append()"
   ]
  },
  {
   "cell_type": "code",
   "execution_count": 25,
   "metadata": {},
   "outputs": [
    {
     "name": "stdout",
     "output_type": "stream",
     "text": [
      "['Jerry', 'Jerry', 'Shoha', 'Koki', 'Olivia', 'Young', 'Peter', 'Dan', 'Chien', 'new_student']\n"
     ]
    }
   ],
   "source": [
    "names.append(\"new_student\")\n",
    "print(names)"
   ]
  },
  {
   "cell_type": "markdown",
   "metadata": {},
   "source": [
    "##### .insert()"
   ]
  },
  {
   "cell_type": "code",
   "execution_count": 26,
   "metadata": {},
   "outputs": [
    {
     "name": "stdout",
     "output_type": "stream",
     "text": [
      "['Jerry', 'Jerry', 'Shoha', 'Ivan', 'Koki', 'Olivia', 'Young', 'Peter', 'Dan', 'Chien', 'new_student']\n"
     ]
    }
   ],
   "source": [
    "names.insert(3, \"Ivan\")\n",
    "print(names)"
   ]
  },
  {
   "cell_type": "markdown",
   "metadata": {},
   "source": [
    "##### .pop()"
   ]
  },
  {
   "cell_type": "code",
   "execution_count": 30,
   "metadata": {},
   "outputs": [
    {
     "name": "stdout",
     "output_type": "stream",
     "text": [
      "['Jerry', 'Jerry', 'Shoha', 'Ivan', 'Koki', 'Olivia', 'Young', 'Peter']\n",
      "Dan\n",
      "['Jerry', 'Jerry', 'Shoha', 'Koki', 'Olivia', 'Young', 'Peter']\n"
     ]
    }
   ],
   "source": [
    "popped_student1 = names.pop()\n",
    "print(names)\n",
    "print(popped_student1)\n",
    "\n",
    "names.pop(3)\n",
    "print(names)"
   ]
  },
  {
   "cell_type": "markdown",
   "metadata": {},
   "source": [
    "\n",
    "##### .remove()"
   ]
  },
  {
   "cell_type": "code",
   "execution_count": 34,
   "metadata": {},
   "outputs": [
    {
     "name": "stdout",
     "output_type": "stream",
     "text": [
      "['mary', 'bernard', 'bob']\n"
     ]
    }
   ],
   "source": [
    "new_list = [\"bob\", \"mary\", \"bernard\", \"bob\"]\n",
    "new_list.remove(\"bob\")\n",
    "print(new_list)"
   ]
  },
  {
   "cell_type": "code",
   "execution_count": 35,
   "metadata": {},
   "outputs": [
    {
     "name": "stdout",
     "output_type": "stream",
     "text": [
      "['mary', 'bernard', 'bob']\n",
      "['mary', 'bernard']\n"
     ]
    }
   ],
   "source": [
    "new_list2 = [\"bob\", \"mary\", \"bernard\", \"bob\"]\n",
    "while \"bob\" in new_list2:\n",
    "    new_list2.remove(\"bob\")\n",
    "    print(new_list2)"
   ]
  },
  {
   "cell_type": "markdown",
   "metadata": {},
   "source": [
    "##### del()"
   ]
  },
  {
   "cell_type": "code",
   "execution_count": 41,
   "metadata": {},
   "outputs": [
    {
     "name": "stdout",
     "output_type": "stream",
     "text": [
      "['mary', 'bernard', 'bob']\n"
     ]
    }
   ],
   "source": [
    "# index to be removed, not the value\n",
    "# be careful while using del, because it can cause indexing errors if not used correctly\n",
    "\n",
    "new_names = [\"bob\", \"mary\", \"bernard\", \"bob\"]\n",
    "\n",
    "del(new_names[0])\n",
    "print(new_names)\n",
    "\n",
    "#THIS CODE CAUSES INDEX ERROR\n",
    "# for i in range(len(new_names)):\n",
    "#     print(new_names)\n",
    "#     del(new_names[i])"
   ]
  },
  {
   "cell_type": "markdown",
   "metadata": {},
   "source": [
    "##### Concatenating Two Lists"
   ]
  },
  {
   "cell_type": "code",
   "execution_count": 42,
   "metadata": {},
   "outputs": [
    {
     "name": "stdout",
     "output_type": "stream",
     "text": [
      "[0, 1, 2, 3, 4, 5]\n"
     ]
    }
   ],
   "source": [
    "l2 = [0,1,2]\n",
    "l3 = [3,4,5]\n",
    "\n",
    "big_list = l2 + l3\n",
    "print(big_list)"
   ]
  },
  {
   "cell_type": "markdown",
   "metadata": {},
   "source": [
    "##### Lists Within Lists"
   ]
  },
  {
   "cell_type": "code",
   "execution_count": 49,
   "metadata": {},
   "outputs": [
    {
     "name": "stdout",
     "output_type": "stream",
     "text": [
      "Shinha\n",
      "['Jerry', 'Koki', 'Young']\n",
      "Koki\n"
     ]
    }
   ],
   "source": [
    "names = [\"Shoha\", \"Ivan\", \"Shinha\", [\"Jerry\", \"Koki\", \"Young\"]]\n",
    "print(names[2])\n",
    "print(names[3])\n",
    "print(names[3][1])"
   ]
  },
  {
   "cell_type": "markdown",
   "metadata": {},
   "source": [
    "##### Looping Through Lists"
   ]
  },
  {
   "cell_type": "code",
   "execution_count": 55,
   "metadata": {},
   "outputs": [
    {
     "name": "stdout",
     "output_type": "stream",
     "text": [
      "Shoha\n",
      "Ivan\n",
      "Shinha\n",
      "Jerry\n",
      "Koki\n",
      "Young\n"
     ]
    }
   ],
   "source": [
    "names = [\"Shoha\", \"Ivan\", \"Shinha\", \"Jerry\", \"Koki\", \"Young\"]\n",
    "\n",
    "# for name in names:\n",
    "#     print(name)\n",
    "    \n",
    "for i in range(len(names)):\n",
    "    if isinstance(names[i], list):\n",
    "        for name in name[i]:\n",
    "            print(name)\n",
    "    else:\n",
    "        print(names[i])"
   ]
  },
  {
   "cell_type": "markdown",
   "metadata": {},
   "source": [
    "## Exercise #1 <br>\n",
    "<p>Cube Number Test... Print out all cubed numbers up to the total value 1000. Meaning that if the cubed number is over 1000 break the loop.</p>"
   ]
  },
  {
   "cell_type": "code",
   "execution_count": 69,
   "metadata": {},
   "outputs": [
    {
     "name": "stdout",
     "output_type": "stream",
     "text": [
      "[1, 8, 27, 64, 125, 216, 343, 512, 729, 1000]\n"
     ]
    }
   ],
   "source": [
    "numbers = [1,2,3,4,5,6,7,8,9,10]\n",
    "cube =[]\n",
    "for i in numbers:\n",
    "    cube.append(i*i*i)\n",
    "print(cube)"
   ]
  },
  {
   "cell_type": "markdown",
   "metadata": {},
   "source": [
    "## Exercise #2 <br>\n",
    "<p>Get first prime numbers up to 100</p>"
   ]
  },
  {
   "cell_type": "code",
   "execution_count": 2,
   "metadata": {},
   "outputs": [
    {
     "name": "stdout",
     "output_type": "stream",
     "text": [
      "2\n",
      "3\n",
      "5\n",
      "7\n",
      "11\n",
      "13\n",
      "17\n",
      "19\n",
      "23\n",
      "29\n",
      "31\n",
      "37\n",
      "41\n",
      "43\n",
      "47\n",
      "53\n",
      "59\n",
      "61\n",
      "67\n",
      "71\n",
      "73\n",
      "79\n",
      "83\n",
      "89\n",
      "97\n"
     ]
    }
   ],
   "source": [
    "# HINT::\n",
    "# An else after an if runs if the if didn’t\n",
    "# An else after a for runs if the for didn’t break\n",
    "\n",
    "first = 2\n",
    "last = 100\n",
    "\n",
    "for i in range(first, last):\n",
    "    if i > 1:\n",
    "        for x in range(2, i):\n",
    "            if (i % x == 0):\n",
    "                break\n",
    "        else:\n",
    "            print(i)"
   ]
  },
  {
   "cell_type": "markdown",
   "metadata": {},
   "source": [
    "# Exercise #3 <br>\n",
    "<p>Take in a users input for their age, if they are younger than 18 print kids, if they're 18 to 65 print adults, else print seniors</p>"
   ]
  },
  {
   "cell_type": "code",
   "execution_count": 62,
   "metadata": {},
   "outputs": [
    {
     "name": "stdout",
     "output_type": "stream",
     "text": [
      "Please enter age to determine ticket price: 3\n",
      "Pricing will be for kids.\n"
     ]
    }
   ],
   "source": [
    "question = input(\"Please enter age to determine ticket price: \")\n",
    "age = int(question)\n",
    "if age < 18:\n",
    "    print(\"Pricing will be for kids.\")\n",
    "elif age < 65:\n",
    "    print(\"Pricing will be for adults.\")\n",
    "else:\n",
    "    print(\"Pricing will be for seniors.\")"
   ]
  },
  {
   "cell_type": "code",
   "execution_count": null,
   "metadata": {},
   "outputs": [],
   "source": []
  }
 ],
 "metadata": {
  "kernelspec": {
   "display_name": "Python 3",
   "language": "python",
   "name": "python3"
  },
  "language_info": {
   "codemirror_mode": {
    "name": "ipython",
    "version": 3
   },
   "file_extension": ".py",
   "mimetype": "text/x-python",
   "name": "python",
   "nbconvert_exporter": "python",
   "pygments_lexer": "ipython3",
   "version": "3.8.8"
  }
 },
 "nbformat": 4,
 "nbformat_minor": 2
}
